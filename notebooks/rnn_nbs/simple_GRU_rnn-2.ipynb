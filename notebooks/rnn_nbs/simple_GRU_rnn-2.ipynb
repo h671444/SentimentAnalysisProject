{
  "nbformat": 4,
  "nbformat_minor": 0,
  "metadata": {
    "colab": {
      "provenance": [],
      "gpuType": "A100",
      "machine_shape": "hm"
    },
    "kernelspec": {
      "name": "python3",
      "display_name": "Python 3"
    },
    "language_info": {
      "name": "python"
    },
    "accelerator": "GPU"
  },
  "cells": [
    {
      "cell_type": "markdown",
      "source": [
        "I denne notatboken viser jeg tydelig prosessen rundt om å sette opp:\n",
        "- Colab med Google Driven min\n",
        "- Å gi VM'en i Colab tilgang til Kaggle gjennom min personlige Token\n",
        "- Hvordan vi laster ned datasettet og den relaterte fil-strukturen\n",
        "- Behandlingen av datasettet som trengs før trening\n",
        "- Modellens arkitektur samt hyperparameterene\n",
        "- Treningen av modellen, med målinger for hver Epoch\n",
        "- Hvordan vi lagrer den beste modellen\n",
        "- Til slutt bruker vi metrics som val_loss, confusion matrix, ROC score, f1 score etc til å \"benchmarke\" modellen vi har trent\n",
        "\n",
        "Alle kommentarene er skrevet på engelsk\n",
        "\n",
        "NB: I noen celler har jeg skrevet mye flere kommentarer enn i andre; dette er for min egen læring."
      ],
      "metadata": {
        "id": "UoeG9b4X4xhC"
      }
    },
    {
      "cell_type": "code",
      "source": [
        "# Cell 1a: Installing Kaggle library (Kaggle's API Client)\n",
        "!pip install kaggle -q # -q to avoid excessive output"
      ],
      "metadata": {
        "id": "XkhmAaA7Xb38"
      },
      "execution_count": 1,
      "outputs": []
    },
    {
      "cell_type": "code",
      "source": [
        "# Cell 1b: Setting up Google Drive\n",
        "from google.colab import drive\n",
        "import os\n",
        "\n",
        "drive.mount('/content/drive')\n",
        "\n",
        "!ls /content/drive/MyDrive | head -n 5 # Show first 5 items, to make sure that I am in the correct drive"
      ],
      "metadata": {
        "colab": {
          "base_uri": "https://localhost:8080/"
        },
        "id": "jIIfsQdx93Uw",
        "outputId": "3364e856-456e-4295-afbc-24a2dcdb1df9"
      },
      "execution_count": 2,
      "outputs": [
        {
          "output_type": "stream",
          "name": "stdout",
          "text": [
            "Mounted at /content/drive\n",
            "Algorithms Illuminated (Part 1)_ The Basics .pdf\n",
            "apostol-calculusi.pdf\n",
            "Atlas Shrugged Analysis .gdoc\n",
            "Colab_Exports\n",
            "Colab Notebooks\n"
          ]
        }
      ]
    },
    {
      "cell_type": "code",
      "execution_count": 3,
      "metadata": {
        "colab": {
          "base_uri": "https://localhost:8080/",
          "height": 86
        },
        "id": "FFFb12L8GEXY",
        "outputId": "7123b8e9-a599-41d0-b6df-7f8ba06d7e81"
      },
      "outputs": [
        {
          "output_type": "display_data",
          "data": {
            "text/plain": [
              "<IPython.core.display.HTML object>"
            ],
            "text/html": [
              "\n",
              "     <input type=\"file\" id=\"files-3073008c-a4db-429b-a0b4-41f094b649dc\" name=\"files[]\" multiple disabled\n",
              "        style=\"border:none\" />\n",
              "     <output id=\"result-3073008c-a4db-429b-a0b4-41f094b649dc\">\n",
              "      Upload widget is only available when the cell has been executed in the\n",
              "      current browser session. Please rerun this cell to enable.\n",
              "      </output>\n",
              "      <script>// Copyright 2017 Google LLC\n",
              "//\n",
              "// Licensed under the Apache License, Version 2.0 (the \"License\");\n",
              "// you may not use this file except in compliance with the License.\n",
              "// You may obtain a copy of the License at\n",
              "//\n",
              "//      http://www.apache.org/licenses/LICENSE-2.0\n",
              "//\n",
              "// Unless required by applicable law or agreed to in writing, software\n",
              "// distributed under the License is distributed on an \"AS IS\" BASIS,\n",
              "// WITHOUT WARRANTIES OR CONDITIONS OF ANY KIND, either express or implied.\n",
              "// See the License for the specific language governing permissions and\n",
              "// limitations under the License.\n",
              "\n",
              "/**\n",
              " * @fileoverview Helpers for google.colab Python module.\n",
              " */\n",
              "(function(scope) {\n",
              "function span(text, styleAttributes = {}) {\n",
              "  const element = document.createElement('span');\n",
              "  element.textContent = text;\n",
              "  for (const key of Object.keys(styleAttributes)) {\n",
              "    element.style[key] = styleAttributes[key];\n",
              "  }\n",
              "  return element;\n",
              "}\n",
              "\n",
              "// Max number of bytes which will be uploaded at a time.\n",
              "const MAX_PAYLOAD_SIZE = 100 * 1024;\n",
              "\n",
              "function _uploadFiles(inputId, outputId) {\n",
              "  const steps = uploadFilesStep(inputId, outputId);\n",
              "  const outputElement = document.getElementById(outputId);\n",
              "  // Cache steps on the outputElement to make it available for the next call\n",
              "  // to uploadFilesContinue from Python.\n",
              "  outputElement.steps = steps;\n",
              "\n",
              "  return _uploadFilesContinue(outputId);\n",
              "}\n",
              "\n",
              "// This is roughly an async generator (not supported in the browser yet),\n",
              "// where there are multiple asynchronous steps and the Python side is going\n",
              "// to poll for completion of each step.\n",
              "// This uses a Promise to block the python side on completion of each step,\n",
              "// then passes the result of the previous step as the input to the next step.\n",
              "function _uploadFilesContinue(outputId) {\n",
              "  const outputElement = document.getElementById(outputId);\n",
              "  const steps = outputElement.steps;\n",
              "\n",
              "  const next = steps.next(outputElement.lastPromiseValue);\n",
              "  return Promise.resolve(next.value.promise).then((value) => {\n",
              "    // Cache the last promise value to make it available to the next\n",
              "    // step of the generator.\n",
              "    outputElement.lastPromiseValue = value;\n",
              "    return next.value.response;\n",
              "  });\n",
              "}\n",
              "\n",
              "/**\n",
              " * Generator function which is called between each async step of the upload\n",
              " * process.\n",
              " * @param {string} inputId Element ID of the input file picker element.\n",
              " * @param {string} outputId Element ID of the output display.\n",
              " * @return {!Iterable<!Object>} Iterable of next steps.\n",
              " */\n",
              "function* uploadFilesStep(inputId, outputId) {\n",
              "  const inputElement = document.getElementById(inputId);\n",
              "  inputElement.disabled = false;\n",
              "\n",
              "  const outputElement = document.getElementById(outputId);\n",
              "  outputElement.innerHTML = '';\n",
              "\n",
              "  const pickedPromise = new Promise((resolve) => {\n",
              "    inputElement.addEventListener('change', (e) => {\n",
              "      resolve(e.target.files);\n",
              "    });\n",
              "  });\n",
              "\n",
              "  const cancel = document.createElement('button');\n",
              "  inputElement.parentElement.appendChild(cancel);\n",
              "  cancel.textContent = 'Cancel upload';\n",
              "  const cancelPromise = new Promise((resolve) => {\n",
              "    cancel.onclick = () => {\n",
              "      resolve(null);\n",
              "    };\n",
              "  });\n",
              "\n",
              "  // Wait for the user to pick the files.\n",
              "  const files = yield {\n",
              "    promise: Promise.race([pickedPromise, cancelPromise]),\n",
              "    response: {\n",
              "      action: 'starting',\n",
              "    }\n",
              "  };\n",
              "\n",
              "  cancel.remove();\n",
              "\n",
              "  // Disable the input element since further picks are not allowed.\n",
              "  inputElement.disabled = true;\n",
              "\n",
              "  if (!files) {\n",
              "    return {\n",
              "      response: {\n",
              "        action: 'complete',\n",
              "      }\n",
              "    };\n",
              "  }\n",
              "\n",
              "  for (const file of files) {\n",
              "    const li = document.createElement('li');\n",
              "    li.append(span(file.name, {fontWeight: 'bold'}));\n",
              "    li.append(span(\n",
              "        `(${file.type || 'n/a'}) - ${file.size} bytes, ` +\n",
              "        `last modified: ${\n",
              "            file.lastModifiedDate ? file.lastModifiedDate.toLocaleDateString() :\n",
              "                                    'n/a'} - `));\n",
              "    const percent = span('0% done');\n",
              "    li.appendChild(percent);\n",
              "\n",
              "    outputElement.appendChild(li);\n",
              "\n",
              "    const fileDataPromise = new Promise((resolve) => {\n",
              "      const reader = new FileReader();\n",
              "      reader.onload = (e) => {\n",
              "        resolve(e.target.result);\n",
              "      };\n",
              "      reader.readAsArrayBuffer(file);\n",
              "    });\n",
              "    // Wait for the data to be ready.\n",
              "    let fileData = yield {\n",
              "      promise: fileDataPromise,\n",
              "      response: {\n",
              "        action: 'continue',\n",
              "      }\n",
              "    };\n",
              "\n",
              "    // Use a chunked sending to avoid message size limits. See b/62115660.\n",
              "    let position = 0;\n",
              "    do {\n",
              "      const length = Math.min(fileData.byteLength - position, MAX_PAYLOAD_SIZE);\n",
              "      const chunk = new Uint8Array(fileData, position, length);\n",
              "      position += length;\n",
              "\n",
              "      const base64 = btoa(String.fromCharCode.apply(null, chunk));\n",
              "      yield {\n",
              "        response: {\n",
              "          action: 'append',\n",
              "          file: file.name,\n",
              "          data: base64,\n",
              "        },\n",
              "      };\n",
              "\n",
              "      let percentDone = fileData.byteLength === 0 ?\n",
              "          100 :\n",
              "          Math.round((position / fileData.byteLength) * 100);\n",
              "      percent.textContent = `${percentDone}% done`;\n",
              "\n",
              "    } while (position < fileData.byteLength);\n",
              "  }\n",
              "\n",
              "  // All done.\n",
              "  yield {\n",
              "    response: {\n",
              "      action: 'complete',\n",
              "    }\n",
              "  };\n",
              "}\n",
              "\n",
              "scope.google = scope.google || {};\n",
              "scope.google.colab = scope.google.colab || {};\n",
              "scope.google.colab._files = {\n",
              "  _uploadFiles,\n",
              "  _uploadFilesContinue,\n",
              "};\n",
              "})(self);\n",
              "</script> "
            ]
          },
          "metadata": {}
        },
        {
          "output_type": "stream",
          "name": "stdout",
          "text": [
            "Saving kaggle.json to kaggle.json\n",
            "kaggle token setup done.\n"
          ]
        }
      ],
      "source": [
        "# Cell 2: Uploading my Kaggle API token (kaggle.json)\n",
        "from google.colab import files\n",
        "import os\n",
        "\n",
        "files.upload()\n",
        "\n",
        "# Creating a dir to store the kaggle token\n",
        "!mkdir -p ~/.kaggle\n",
        "# Moving the uploaded file to that dir\n",
        "!mv kaggle.json ~/.kaggle/\n",
        "# Set the permissions so that we have programmatic access to everything on Kaggle, like datasets\n",
        "!chmod 600 ~/.kaggle/kaggle.json\n",
        "print(\"kaggle token setup done.\")"
      ]
    },
    {
      "cell_type": "code",
      "source": [
        "# Cell 3: Download and Unzip the Dataset\n",
        "import os\n",
        "\n",
        "# where to put the data\n",
        "DATA_DIR = \"kaggle_data\"\n",
        "# create the dir\n",
        "!mkdir -p {DATA_DIR}\n",
        "\n",
        "# Download the dataset and automatically unzip it into the DATA_DIR folder\n",
        "# ! makes it so that the command is sent to the shell instead of the python interpreter\n",
        "# The '-d' flag specifies the dataset name from Kaggle URL\n",
        "# The '-p' flag specifies the path to download to\n",
        "# The '--unzip' flag automatically unzips the file after download\n",
        "!kaggle datasets download -d kritanjalijain/amazon-reviews -p {DATA_DIR} --unzip\n",
        "\n",
        "# define the path to the training file (train.csv)\n",
        "# assume 'train.csv' is directly inside the DATA_DIR after unzipping\n",
        "csv_path = os.path.join(DATA_DIR, 'train.csv')\n",
        "\n",
        "print(f\"Dataset downloaded and unzipped into '{DATA_DIR}'.\")\n",
        "print(f\"Path to train file is: {csv_path}\")\n",
        "\n",
        "\n",
        "!ls {DATA_DIR} # Shows us the downloaded files"
      ],
      "metadata": {
        "colab": {
          "base_uri": "https://localhost:8080/"
        },
        "id": "bkJ78u4Ece0b",
        "outputId": "86e6ef4d-5f55-4568-f430-4b5b57974cab"
      },
      "execution_count": 4,
      "outputs": [
        {
          "output_type": "stream",
          "name": "stdout",
          "text": [
            "Dataset URL: https://www.kaggle.com/datasets/kritanjalijain/amazon-reviews\n",
            "License(s): CC0-1.0\n",
            "Dataset downloaded and unzipped into 'kaggle_data'.\n",
            "Path to train file is: kaggle_data/train.csv\n",
            "amazon_review_polarity_csv.tgz\ttest.csv  train.csv\n"
          ]
        }
      ]
    },
    {
      "cell_type": "code",
      "source": [
        "# Cell 4: Imports for Data Handling and Preprocessing\n",
        "import pandas as pd\n",
        "import numpy as np\n",
        "import re # For regular expressions used in cleaning\n",
        "import nltk # Natural Language Toolkit for stopwords\n",
        "\n",
        "nltk.download('stopwords', quiet=True)\n",
        "\n",
        "from nltk.corpus import stopwords\n",
        "\n",
        "print(\"\\nNLTK stopwords are ready; Libraries imported.\")"
      ],
      "metadata": {
        "colab": {
          "base_uri": "https://localhost:8080/"
        },
        "id": "_Vqnp1WRhB2r",
        "outputId": "05b298fa-a5ec-4070-d481-d75860961117"
      },
      "execution_count": 5,
      "outputs": [
        {
          "output_type": "stream",
          "name": "stdout",
          "text": [
            "\n",
            "NLTK stopwords are ready; Libraries imported.\n"
          ]
        }
      ]
    },
    {
      "cell_type": "code",
      "source": [
        "# Cell 4a: Peaking at the data\n",
        "col_names = ['label', 'title', 'content']\n",
        "df_peak = pd.read_csv(csv_path, header=None, names=col_names)\n",
        "\n",
        "print(df_peak.head(3))\n",
        "\n",
        "print(\"\\nShape: \", df_peak.shape)\n",
        "\n",
        "# 1 means negative, 2 means positive\n",
        "print(df_peak['label'].value_counts())\n",
        "\n",
        "print(\"\\nShare of positive reviews:\", round((df_peak['label'] == 2).mean()*100, 2), \"%\")\n",
        "\n",
        "df_peak['review_len'] = df_peak['content'].str.len()\n",
        "print(\"\\nAverage characters per review:\",\n",
        "      int(df_peak['review_len'].mean()))"
      ],
      "metadata": {
        "colab": {
          "base_uri": "https://localhost:8080/"
        },
        "id": "DMrF34Xy-u0A",
        "outputId": "bc38e50d-4198-4d7d-9ad3-cff3893e9739"
      },
      "execution_count": 11,
      "outputs": [
        {
          "output_type": "stream",
          "name": "stdout",
          "text": [
            "   label  ...                                            content\n",
            "0      2  ...  This sound track was beautiful! It paints the ...\n",
            "1      2  ...  I'm reading a lot of reviews saying that this ...\n",
            "2      2  ...  This soundtrack is my favorite music of all ti...\n",
            "\n",
            "[3 rows x 3 columns]\n",
            "\n",
            "Shape:  (3600000, 3)\n",
            "label\n",
            "2    1800000\n",
            "1    1800000\n",
            "Name: count, dtype: int64\n",
            "\n",
            "Share of positive reviews: 50.0 %\n",
            "\n",
            "Average characters per review: 405\n"
          ]
        }
      ]
    },
    {
      "cell_type": "code",
      "source": [
        "# Cell 4b\n",
        "review_lens = df_peak['content'].str.count(' ') + 1\n",
        "review_lens.describe(percentiles=[.5, .9, .95]) # Real‑world text‑length distributions are long‑tailed, which informs our wanted percentiles"
      ],
      "metadata": {
        "colab": {
          "base_uri": "https://localhost:8080/",
          "height": 331
        },
        "id": "geMWCBIpJy3y",
        "outputId": "ed2164d2-b5da-4b49-b969-b8870c6ecb8b"
      },
      "execution_count": 17,
      "outputs": [
        {
          "output_type": "execute_result",
          "data": {
            "text/plain": [
              "count    3.600000e+06\n",
              "mean     7.416885e+01\n",
              "std      4.229871e+01\n",
              "min      1.000000e+00\n",
              "50%      6.600000e+01\n",
              "90%      1.390000e+02\n",
              "95%      1.560000e+02\n",
              "max      2.540000e+02\n",
              "Name: content, dtype: float64"
            ],
            "text/html": [
              "<div>\n",
              "<style scoped>\n",
              "    .dataframe tbody tr th:only-of-type {\n",
              "        vertical-align: middle;\n",
              "    }\n",
              "\n",
              "    .dataframe tbody tr th {\n",
              "        vertical-align: top;\n",
              "    }\n",
              "\n",
              "    .dataframe thead th {\n",
              "        text-align: right;\n",
              "    }\n",
              "</style>\n",
              "<table border=\"1\" class=\"dataframe\">\n",
              "  <thead>\n",
              "    <tr style=\"text-align: right;\">\n",
              "      <th></th>\n",
              "      <th>content</th>\n",
              "    </tr>\n",
              "  </thead>\n",
              "  <tbody>\n",
              "    <tr>\n",
              "      <th>count</th>\n",
              "      <td>3.600000e+06</td>\n",
              "    </tr>\n",
              "    <tr>\n",
              "      <th>mean</th>\n",
              "      <td>7.416885e+01</td>\n",
              "    </tr>\n",
              "    <tr>\n",
              "      <th>std</th>\n",
              "      <td>4.229871e+01</td>\n",
              "    </tr>\n",
              "    <tr>\n",
              "      <th>min</th>\n",
              "      <td>1.000000e+00</td>\n",
              "    </tr>\n",
              "    <tr>\n",
              "      <th>50%</th>\n",
              "      <td>6.600000e+01</td>\n",
              "    </tr>\n",
              "    <tr>\n",
              "      <th>90%</th>\n",
              "      <td>1.390000e+02</td>\n",
              "    </tr>\n",
              "    <tr>\n",
              "      <th>95%</th>\n",
              "      <td>1.560000e+02</td>\n",
              "    </tr>\n",
              "    <tr>\n",
              "      <th>max</th>\n",
              "      <td>2.540000e+02</td>\n",
              "    </tr>\n",
              "  </tbody>\n",
              "</table>\n",
              "</div><br><label><b>dtype:</b> float64</label>"
            ]
          },
          "metadata": {},
          "execution_count": 17
        }
      ]
    },
    {
      "cell_type": "code",
      "source": [
        "# Cell 5: Configuration Parameters\n",
        "import os\n",
        "\n",
        "print(f\"Using data from: {csv_path}\")\n",
        "\n",
        "\n",
        "NROWS_TO_LOAD = 200000\n",
        "\n",
        "COLUMN_NAMES = [\"polarity\", \"title\", \"text\"]\n",
        "\n",
        "# Tokenization & Padding\n",
        "VOCAB_SIZE = 10000\n",
        "MAX_SEQUENCE_LENGTH = 70\n",
        "OOV_TOKEN = \"<OOV>\"\n",
        "\n",
        "# Model Parameters\n",
        "EMBEDDING_DIM = 64\n",
        "GRU_UNITS = 64\n",
        "DROPOUT_RATE = 0.3\n",
        "\n",
        "# Training Parameters\n",
        "VALIDATION_SPLIT_SIZE = 0.20\n",
        "TEST_SPLIT_SIZE = 0.25\n",
        "RANDOM_STATE = 42\n",
        "EPOCHS = 10\n",
        "BATCH_SIZE = 64\n",
        "LEARNING_RATE = 0.001\n",
        "\n",
        "\n",
        "# Define the main dir to save artifacts for this model\n",
        "MODEL_ARTIFACTS_DIR = \"models_rnn_gru_simple\"\n",
        "# Create the dir if it doesn't exist\n",
        "os.makedirs(MODEL_ARTIFACTS_DIR, exist_ok=True)\n",
        "\n",
        "# Permanent storage on google drive\n",
        "GDRIVE_SAVE_DIR = '/content/drive/MyDrive/Sentiment Analysis Project/GRU_Results_2'\n",
        "\n",
        "# Define specific file paths using the directory above\n",
        "MODEL_SAVE_PATH = os.path.join(MODEL_ARTIFACTS_DIR, \"best_model.keras\")\n",
        "TOKENIZER_SAVE_PATH = os.path.join(MODEL_ARTIFACTS_DIR, \"tokenizer.pickle\")\n",
        "HISTORY_PLOT_SAVE_PATH = os.path.join(MODEL_ARTIFACTS_DIR, \"training_history.png\")\n",
        "# --- End Saving Paths ---\n",
        "\n",
        "print(\"Configuration parameters set.\")\n",
        "print(f\"Artifacts will be saved in: '{MODEL_ARTIFACTS_DIR}'\")\n",
        "if NROWS_TO_LOAD:\n",
        "    print(f\"Note: Loading only {NROWS_TO_LOAD} rows initially for development.\")\n",
        "else:\n",
        "    print(\"Note: Loading the full dataset.\")"
      ],
      "metadata": {
        "colab": {
          "base_uri": "https://localhost:8080/"
        },
        "id": "7bQ5UL_zixna",
        "outputId": "78e5b671-7be8-45d3-b9d6-3c3114694a32"
      },
      "execution_count": 39,
      "outputs": [
        {
          "output_type": "stream",
          "name": "stdout",
          "text": [
            "Using data from: kaggle_data/train.csv\n",
            "Configuration parameters set.\n",
            "Artifacts will be saved in: 'models_rnn_gru_simple'\n",
            "Note: Loading only 200000 rows initially for development.\n"
          ]
        }
      ]
    },
    {
      "cell_type": "code",
      "source": [
        "# Cell 5b\n",
        "import matplotlib.pyplot as plt\n",
        "\n",
        "plt.figure(figsize=(10, 5))\n",
        "bins = np.arange(0, 260+5, 5)\n",
        "plt.hist(review_lens, bins=bins, log=True)\n",
        "plt.axvline(MAX_SEQUENCE_LENGTH, color='red', ls='--',\n",
        "            label=f'MAX_SEQUENCE_LENGTH = {MAX_SEQUENCE_LENGTH}')\n",
        "plt.xlabel('Review length (tokens)')\n",
        "plt.ylabel('Frequency (log scale)')\n",
        "plt.title('Amazon Review Length Distribution')\n",
        "plt.legend()\n",
        "plt.tight_layout()\n",
        "plt.show()"
      ],
      "metadata": {
        "colab": {
          "base_uri": "https://localhost:8080/",
          "height": 507
        },
        "id": "_MaIlsW9O4Py",
        "outputId": "c0d10e4a-bd9b-439d-a4a6-6e82a7913c58"
      },
      "execution_count": 29,
      "outputs": [
        {
          "output_type": "display_data",
          "data": {
            "text/plain": [
              "<Figure size 1000x500 with 1 Axes>"
            ],
            "image/png": "[encoded data removed]"
          },
          "metadata": {}
        }
      ]
    },
    {
      "cell_type": "code",
      "source": [
        "# Cell 6: Load Data with Pandas\n",
        "print(f\"Loading data from '{csv_path}'...\")\n",
        "\n",
        "# Load the CSV using pandas\n",
        "# header=None: Tells pandas the file doesn't have a header row\n",
        "# names=COLUMN_NAMES: Provides the names we defined in Cell 5 for the columns\n",
        "# nrows=NROWS_TO_LOAD: Limits the number of rows read (for speed during development)\n",
        "df = pd.read_csv(\n",
        "    csv_path,\n",
        "    header=None,\n",
        "    names=COLUMN_NAMES,\n",
        "    nrows=NROWS_TO_LOAD\n",
        ")\n",
        "print(\"Data loaded into DataFrame.\")\n",
        "\n",
        "print(\"\\nDataFrame Info:\")\n",
        "df.info() # Shows column types, non-null counts, memory usage\n",
        "\n",
        "print(\"\\nFirst 5 rows:\")\n",
        "print(df.head()) # Look at the actual data values.\n",
        "\n",
        "print(\"\\nMissing values per column:\")\n",
        "print(df.isnull().sum()) # Check how many missing values are in each column\n",
        "\n",
        "# Handle missing values in columns ('title', 'text')\n",
        "# inplace=True modifies the DataFrame directly without creating a copy\n",
        "df.dropna(subset=['title', 'text'], inplace=True)\n",
        "print(f\"\\nShape after dropping rows with missing title/text: {df.shape}\")"
      ],
      "metadata": {
        "colab": {
          "base_uri": "https://localhost:8080/"
        },
        "id": "VHzzeY3Ri2re",
        "outputId": "cf575273-6565-47a2-8864-236031362929"
      },
      "execution_count": 30,
      "outputs": [
        {
          "output_type": "stream",
          "name": "stdout",
          "text": [
            "Loading data from 'kaggle_data/train.csv'...\n",
            "Data loaded into DataFrame.\n",
            "\n",
            "DataFrame Info:\n",
            "<class 'pandas.core.frame.DataFrame'>\n",
            "RangeIndex: 200000 entries, 0 to 199999\n",
            "Data columns (total 3 columns):\n",
            " #   Column    Non-Null Count   Dtype \n",
            "---  ------    --------------   ----- \n",
            " 0   polarity  200000 non-null  int64 \n",
            " 1   title     199982 non-null  object\n",
            " 2   text      200000 non-null  object\n",
            "dtypes: int64(1), object(2)\n",
            "memory usage: 4.6+ MB\n",
            "\n",
            "First 5 rows:\n",
            "   polarity  ...                                               text\n",
            "0         2  ...  This sound track was beautiful! It paints the ...\n",
            "1         2  ...  I'm reading a lot of reviews saying that this ...\n",
            "2         2  ...  This soundtrack is my favorite music of all ti...\n",
            "3         2  ...  I truly like this soundtrack and I enjoy video...\n",
            "4         2  ...  If you've played the game, you know how divine...\n",
            "\n",
            "[5 rows x 3 columns]\n",
            "\n",
            "Missing values per column:\n",
            "polarity     0\n",
            "title       18\n",
            "text         0\n",
            "dtype: int64\n",
            "\n",
            "Shape after dropping rows with missing title/text: (199982, 3)\n"
          ]
        }
      ]
    },
    {
      "cell_type": "code",
      "source": [
        "# Cell 7: Basic Text Cleaning\n",
        "print(\"Cleaning text data...\")\n",
        "\n",
        "# Combine title and text\n",
        "# Often, combining the review title and body gives the model more context\n",
        "# We create a new column 'full_review'\n",
        "df['full_review'] = df['title'] + ' ' + df['text']\n",
        "\n",
        "# Define the cleaning function\n",
        "# This function performs common text normalization steps\n",
        "def clean_text(text):\n",
        "    text = str(text).lower()\n",
        "    # [^a-z0-9\\s] means \"match anything that is not a lowercase letter, a digit, or whitespace\n",
        "    text = re.sub(r'[^a-z0-9\\s]', '', text)\n",
        "    # Remove extra whitespace (multiple spaces/tabs/newlines)\n",
        "    # \\s+ means \"match one or more whitespace characters\"\n",
        "    text = re.sub(r'\\s+', ' ', text).strip() # .strip() removes leading/trailing whitespace\n",
        "    return text\n",
        "\n",
        "# .apply() runs the 'clean_text' function on every entry in the 'full_review' column\n",
        "# store the result in a new column 'cleaned_review'\n",
        "# Using .astype(str) ensures apply works correctly even if 'full_review' had non-string data\n",
        "df['cleaned_review'] = df['full_review'].astype(str).apply(clean_text)\n",
        "\n",
        "print(\"Text cleaning applied.\")\n",
        "\n",
        "# displaying some samples\n",
        "print(\"\\nSample original vs cleaned reviews:\")\n",
        "print(df[['full_review', 'cleaned_review']].head())"
      ],
      "metadata": {
        "colab": {
          "base_uri": "https://localhost:8080/"
        },
        "id": "o2VWnFJCjeRF",
        "outputId": "c393e6fc-e6d2-49f9-98aa-efd7737a583e"
      },
      "execution_count": 31,
      "outputs": [
        {
          "output_type": "stream",
          "name": "stdout",
          "text": [
            "Cleaning text data...\n",
            "Text cleaning applied.\n",
            "\n",
            "Sample original vs cleaned reviews:\n",
            "                                         full_review                                     cleaned_review\n",
            "0  Stuning even for the non-gamer This sound trac...  stuning even for the nongamer this sound track...\n",
            "1  The best soundtrack ever to anything. I'm read...  the best soundtrack ever to anything im readin...\n",
            "2  Amazing! This soundtrack is my favorite music ...  amazing this soundtrack is my favorite music o...\n",
            "3  Excellent Soundtrack I truly like this soundtr...  excellent soundtrack i truly like this soundtr...\n",
            "4  Remember, Pull Your Jaw Off The Floor After He...  remember pull your jaw off the floor after hea...\n"
          ]
        }
      ]
    },
    {
      "cell_type": "code",
      "source": [
        "# Cell 8: Remove Stopwords\n",
        "print(\"Removing stopwords...\")\n",
        "\n",
        "stop_words = set(stopwords.words('english')) #\n",
        "\n",
        "def remove_stopwords(text):\n",
        "    words = text.split()\n",
        "    # create a new list keeping only words that are NOT in the stop_words set\n",
        "    filtered_words = [word for word in words if word not in stop_words]\n",
        "    # join the filtered words back into a single string separated by spaces\n",
        "    return ' '.join(filtered_words)\n",
        "\n",
        "\n",
        "df['cleaned_review_no_stopwords'] = df['cleaned_review'].apply(remove_stopwords)\n",
        "\n",
        "print(\"Stopwords removed.\")\n",
        "\n",
        "# comparison\n",
        "print(\"\\nSample reviews after stopword removal:\")\n",
        "print(df[['cleaned_review', 'cleaned_review_no_stopwords']].head())\n",
        "\n",
        "FINAL_TEXT_COLUMN = 'cleaned_review_no_stopwords'\n",
        "print(f\"\\nUsing column '{FINAL_TEXT_COLUMN}' for subsequent tokenization.\")"
      ],
      "metadata": {
        "colab": {
          "base_uri": "https://localhost:8080/"
        },
        "id": "XQZdV-YBjkTg",
        "outputId": "e23b41bd-7945-4c47-eead-d82cad919616"
      },
      "execution_count": 32,
      "outputs": [
        {
          "output_type": "stream",
          "name": "stdout",
          "text": [
            "Removing stopwords...\n",
            "Stopwords removed.\n",
            "\n",
            "Sample reviews after stopword removal:\n",
            "                                      cleaned_review                        cleaned_review_no_stopwords\n",
            "0  stuning even for the nongamer this sound track...  stuning even nongamer sound track beautiful pa...\n",
            "1  the best soundtrack ever to anything im readin...  best soundtrack ever anything im reading lot r...\n",
            "2  amazing this soundtrack is my favorite music o...  amazing soundtrack favorite music time hands i...\n",
            "3  excellent soundtrack i truly like this soundtr...  excellent soundtrack truly like soundtrack enj...\n",
            "4  remember pull your jaw off the floor after hea...  remember pull jaw floor hearing youve played g...\n",
            "\n",
            "Using column 'cleaned_review_no_stopwords' for subsequent tokenization.\n"
          ]
        }
      ]
    },
    {
      "cell_type": "code",
      "source": [
        "# Cell 9: prepare Final Features (X) and Labels (y)\n",
        "\n",
        "X = df[FINAL_TEXT_COLUMN]\n",
        "print(f\"Selected features (X) from column: '{FINAL_TEXT_COLUMN}'\")\n",
        "\n",
        "# create the binary labels (0 or 1) ---\n",
        "# Map polarity score (1 for neg, 2 for pos) to label (0 for neg, 1 for pos)\n",
        "df['label'] = df['polarity'].map({1: 0, 2: 1})\n",
        "y = df['label']\n",
        "print(\"Created labels (y) by mapping polarity {1:0, 2:1}.\")\n",
        "\n",
        "# check for any missing labels after mapping\n",
        "if y.isnull().sum() > 0:\n",
        "    print(f\"Warning: Found {y.isnull().sum()} missing values in labels after mapping.\")\n",
        "    print(\"Dropping rows with missing labels and corresponding features.\")\n",
        "    # Get indices of rows where label is not null\n",
        "    valid_indices = y.notnull()\n",
        "    # Keep only rows with valid labels in both X and y\n",
        "    X = X[valid_indices]\n",
        "    y = y[valid_indices]\n",
        "    print(\"Rows with missing labels dropped.\")\n",
        "else:\n",
        "    print(\"No missing labels found after mapping.\")\n",
        "\n",
        "# final check\n",
        "print(f\"\\nFinal Features (X) shape: {X.shape}\")\n",
        "print(f\"Final Labels (y) shape: {y.shape}\")\n",
        "# Ensure they still have the same number of entries\n",
        "assert X.shape[0] == y.shape[0], \"Mismatch between number of features and labels!\"\n",
        "print(f\"Label distribution:\\n{y.value_counts(normalize=True)}\")"
      ],
      "metadata": {
        "colab": {
          "base_uri": "https://localhost:8080/"
        },
        "id": "3UK6bBtdkG7k",
        "outputId": "85658e05-4309-4330-8b54-5e865f21d7c3"
      },
      "execution_count": 33,
      "outputs": [
        {
          "output_type": "stream",
          "name": "stdout",
          "text": [
            "Selected features (X) from column: 'cleaned_review_no_stopwords'\n",
            "Created labels (y) by mapping polarity {1:0, 2:1}.\n",
            "No missing labels found after mapping.\n",
            "\n",
            "Final Features (X) shape: (199982,)\n",
            "Final Labels (y) shape: (199982,)\n",
            "Label distribution:\n",
            "label\n",
            "1    0.505841\n",
            "0    0.494159\n",
            "Name: proportion, dtype: float64\n"
          ]
        }
      ]
    },
    {
      "cell_type": "code",
      "source": [
        "# Cell 10: Split Data into Training, Validation, and Test Sets\n",
        "\n",
        "# use scikit-learn's train_test_split function\n",
        "from sklearn.model_selection import train_test_split\n",
        "\n",
        "# Split 1: Separate Validation Set\n",
        "# This takes the full X and y and splits off the validation set first\n",
        "# stratify=y ensures that the proportion of positive/negative labels is\n",
        "# approximately the same in the output splits as in the input 'y'.\n",
        "X_train_temp, X_val, y_train_temp, y_val = train_test_split(\n",
        "    X, y,\n",
        "    test_size=VALIDATION_SPLIT_SIZE,\n",
        "    random_state=RANDOM_STATE,\n",
        "    stratify=y\n",
        ")\n",
        "print(\"First split complete (Train+Test vs Validation).\")\n",
        "\n",
        "# Split 2: Separate Test Set\n",
        "# This takes the *remaining* data (X_train_temp, y_train_temp) and splits off\n",
        "# the test set. TEST_SPLIT_SIZE=0.25 means 25% of the first split's\n",
        "# training portion (which was 80% of total) becomes the test set (0.25 * 0.80 = 0.20 of total).\n",
        "# This results in the desired 60% Train, 20% Validation, 20% Test split overall.\n",
        "X_train, X_test, y_train, y_test = train_test_split(\n",
        "    X_train_temp, y_train_temp,\n",
        "    test_size=TEST_SPLIT_SIZE,\n",
        "    random_state=RANDOM_STATE,\n",
        "    stratify=y_train_temp\n",
        ")\n",
        "print(\"Second split complete (Train vs Test).\")\n",
        "\n",
        "print(\"\\nFinal Data Split Sizes:\")\n",
        "print(f\"Training set:   X_train shape={X_train.shape}, y_train shape={y_train.shape}\")\n",
        "print(f\"Validation set: X_val shape={X_val.shape}, y_val shape={y_val.shape}\")\n",
        "print(f\"Test set:       X_test shape={X_test.shape}, y_test shape={y_test.shape}\")"
      ],
      "metadata": {
        "colab": {
          "base_uri": "https://localhost:8080/"
        },
        "id": "WM8RMOvGkJQq",
        "outputId": "bcbd9816-238b-4531-a9ed-713527bcf66f"
      },
      "execution_count": 34,
      "outputs": [
        {
          "output_type": "stream",
          "name": "stdout",
          "text": [
            "First split complete (Train+Test vs Validation).\n",
            "Second split complete (Train vs Test).\n",
            "\n",
            "Final Data Split Sizes:\n",
            "Training set:   X_train shape=(119988,), y_train shape=(119988,)\n",
            "Validation set: X_val shape=(39997,), y_val shape=(39997,)\n",
            "Test set:       X_test shape=(39997,), y_test shape=(39997,)\n"
          ]
        }
      ]
    },
    {
      "cell_type": "code",
      "source": [
        "# Cell 11: Tokenization and Padding\n",
        "\n",
        "# Import Keras utilities\n",
        "from tensorflow.keras.preprocessing.text import Tokenizer\n",
        "from tensorflow.keras.preprocessing.sequence import pad_sequences\n",
        "import pickle # To save the tokenizer\n",
        "\n",
        "print(\"Starting tokenization and padding...\")\n",
        "\n",
        "tokenizer = Tokenizer(num_words=VOCAB_SIZE, oov_token=OOV_TOKEN)\n",
        "\n",
        "# fit the Tokenizer on train data only\n",
        "print(\"Fitting tokenizer on training data...\")\n",
        "tokenizer.fit_on_texts(X_train)\n",
        "\n",
        "# convert text to sequences of integers\n",
        "print(\"Converting text to sequences...\")\n",
        "X_train_seq = tokenizer.texts_to_sequences(X_train)\n",
        "X_val_seq = tokenizer.texts_to_sequences(X_val)\n",
        "X_test_seq = tokenizer.texts_to_sequences(X_test)\n",
        "\n",
        "# pad the sequences\n",
        "print(f\"Padding sequences to length: {MAX_SEQUENCE_LENGTH}\")\n",
        "X_train_pad = pad_sequences(X_train_seq, maxlen=MAX_SEQUENCE_LENGTH, padding='post', truncating='post')\n",
        "X_val_pad = pad_sequences(X_val_seq, maxlen=MAX_SEQUENCE_LENGTH, padding='post', truncating='post')\n",
        "X_test_pad = pad_sequences(X_test_seq, maxlen=MAX_SEQUENCE_LENGTH, padding='post', truncating='post')\n",
        "\n",
        "print(\"\\nPadding complete.\")\n",
        "print(f\"Padded Training sequence shape: {X_train_pad.shape}\")\n",
        "print(f\"Padded Validation sequence shape: {X_val_pad.shape}\")\n",
        "print(f\"Padded Test sequence shape: {X_test_pad.shape}\")\n",
        "\n",
        "# TOKENIZER_SAVE_PATH is defined in Cell5\n",
        "print(f\"\\nSaving tokenizer to: {TOKENIZER_SAVE_PATH}\")\n",
        "with open(TOKENIZER_SAVE_PATH, 'wb') as handle:\n",
        "    pickle.dump(tokenizer, handle, protocol=pickle.HIGHEST_PROTOCOL)\n",
        "print(\"Tokenizer saved.\")"
      ],
      "metadata": {
        "colab": {
          "base_uri": "https://localhost:8080/"
        },
        "id": "IPLZfNwakTCT",
        "outputId": "e058197e-dbd0-416f-c366-a0a46e9e0356"
      },
      "execution_count": 35,
      "outputs": [
        {
          "output_type": "stream",
          "name": "stdout",
          "text": [
            "Starting tokenization and padding...\n",
            "Fitting tokenizer on training data...\n",
            "Converting text to sequences...\n",
            "Padding sequences to length: 70\n",
            "\n",
            "Padding complete.\n",
            "Padded Training sequence shape: (119988, 70)\n",
            "Padded Validation sequence shape: (39997, 70)\n",
            "Padded Test sequence shape: (39997, 70)\n",
            "\n",
            "Saving tokenizer to: models_rnn_gru_simple/tokenizer.pickle\n",
            "Tokenizer saved.\n"
          ]
        }
      ]
    },
    {
      "cell_type": "code",
      "source": [
        "# Cell 12: Build GRU Model\n",
        "\n",
        "# Import Keras layers\n",
        "from tensorflow.keras.models import Sequential\n",
        "from tensorflow.keras.layers import Embedding, GRU, Dense, Dropout, SpatialDropout1D, Bidirectional\n",
        "\n",
        "print(\"\\nBuilding the GRU model architecture...\")\n",
        "\n",
        "model = Sequential(name=\"GRU_Simple_Sentiment_Model\")\n",
        "\n",
        "# layer 1: Embedding\n",
        "# Turns positive integers (indexes) into dense vectors of fixed size\n",
        "# input_dim: Size of the vocabulary\n",
        "# output_dim: Dimension of the dense embedding\n",
        "# input_length: Length of input sequences (MAX_SEQUENCE_LENGTH from Cell 5)\n",
        "# mask_zero=True: Tells subsequent layers to ignore padding (zeros) in the input sequences -> Important for RNNs\n",
        "model.add(Embedding(\n",
        "    input_dim=VOCAB_SIZE,\n",
        "    output_dim=EMBEDDING_DIM,\n",
        "    input_length=MAX_SEQUENCE_LENGTH,\n",
        "    mask_zero=True\n",
        "))\n",
        "\n",
        "# Layer 2: SpatialDropout1D\n",
        "# This dropout helps prevent overfitting by randomly dropping entire 1D feature maps\n",
        "# from the embeddings, rather than individual elements.\n",
        "model.add(SpatialDropout1D(DROPOUT_RATE)) # DROPOUT_RATE from Cell 5\n",
        "\n",
        "# Layer 3: GRU Layer\n",
        "# The core RNN layer - Processes sequences taking temporal order into account\n",
        "# units: Dimensionality of the output space\n",
        "# dropout: Fraction of units to drop for the linear transformation of the inputs.\n",
        "# recurrent_dropout: Fraction of units to drop for the linear transformation of the recurrent state\n",
        "# return_sequences=False: We only need the output of the *last* time step for classification here\n",
        "model.add(\n",
        "    Bidirectional(\n",
        "        GRU(\n",
        "            units=GRU_UNITS,\n",
        "            dropout=DROPOUT_RATE,\n",
        "            recurrent_dropout=0.0,   # CuDNN‑optimised kernel\n",
        "            return_sequences=False\n",
        "        )\n",
        "    )\n",
        ")\n",
        "\n",
        "# Layer 4: Output Dense Layer\n",
        "# Standard fully connected layer for classification\n",
        "# units=1: One output neuron (binary classification)\n",
        "# activation='sigmoid': Sigmoid activation squashes the output between 0 and 1,\n",
        "# representing the probability of the positive class (label 1).\n",
        "model.add(Dense(1, activation='sigmoid'))\n",
        "\n",
        "print(\"\\nModel built successfully.\")\n",
        "# Print a summary of the model's layers and parameters\n",
        "model.summary()"
      ],
      "metadata": {
        "colab": {
          "base_uri": "https://localhost:8080/",
          "height": 375
        },
        "id": "7p07Sc_ek_QU",
        "outputId": "81f2c41c-d8e2-429e-c27d-01e0fe0019a9"
      },
      "execution_count": 38,
      "outputs": [
        {
          "output_type": "stream",
          "name": "stdout",
          "text": [
            "\n",
            "Building the GRU model architecture...\n",
            "\n",
            "Model built successfully.\n"
          ]
        },
        {
          "output_type": "stream",
          "name": "stderr",
          "text": [
            "/usr/local/lib/python3.11/dist-packages/keras/src/layers/core/embedding.py:90: UserWarning: Argument `input_length` is deprecated. Just remove it.\n",
            "  warnings.warn(\n"
          ]
        },
        {
          "output_type": "display_data",
          "data": {
            "text/plain": [
              "\u001b[1mModel: \"GRU_Simple_Sentiment_Model\"\u001b[0m\n"
            ],
            "text/html": [
              "<pre style=\"white-space:pre;overflow-x:auto;line-height:normal;font-family:Menlo,'DejaVu Sans Mono',consolas,'Courier New',monospace\"><span style=\"font-weight: bold\">Model: \"GRU_Simple_Sentiment_Model\"</span>\n",
              "</pre>\n"
            ]
          },
          "metadata": {}
        },
        {
          "output_type": "display_data",
          "data": {
            "text/plain": [
              "┏━━━━━━━━━━━━━━━━━━━━━━━━━━━━━━━━━┳━━━━━━━━━━━━━━━━━━━━━━━━┳━━━━━━━━━━━━━━━┓\n",
              "┃\u001b[1m \u001b[0m\u001b[1mLayer (type)                   \u001b[0m\u001b[1m \u001b[0m┃\u001b[1m \u001b[0m\u001b[1mOutput Shape          \u001b[0m\u001b[1m \u001b[0m┃\u001b[1m \u001b[0m\u001b[1m      Param #\u001b[0m\u001b[1m \u001b[0m┃\n",
              "┡━━━━━━━━━━━━━━━━━━━━━━━━━━━━━━━━━╇━━━━━━━━━━━━━━━━━━━━━━━━╇━━━━━━━━━━━━━━━┩\n",
              "│ embedding_1 (\u001b[38;5;33mEmbedding\u001b[0m)         │ ?                      │   \u001b[38;5;34m0\u001b[0m (unbuilt) │\n",
              "├─────────────────────────────────┼────────────────────────┼───────────────┤\n",
              "│ spatial_dropout1d_1             │ ?                      │             \u001b[38;5;34m0\u001b[0m │\n",
              "│ (\u001b[38;5;33mSpatialDropout1D\u001b[0m)              │                        │               │\n",
              "├─────────────────────────────────┼────────────────────────┼───────────────┤\n",
              "│ bidirectional_1 (\u001b[38;5;33mBidirectional\u001b[0m) │ ?                      │   \u001b[38;5;34m0\u001b[0m (unbuilt) │\n",
              "├─────────────────────────────────┼────────────────────────┼───────────────┤\n",
              "│ dense_1 (\u001b[38;5;33mDense\u001b[0m)                 │ ?                      │   \u001b[38;5;34m0\u001b[0m (unbuilt) │\n",
              "└─────────────────────────────────┴────────────────────────┴───────────────┘\n"
            ],
            "text/html": [
              "<pre style=\"white-space:pre;overflow-x:auto;line-height:normal;font-family:Menlo,'DejaVu Sans Mono',consolas,'Courier New',monospace\">┏━━━━━━━━━━━━━━━━━━━━━━━━━━━━━━━━━┳━━━━━━━━━━━━━━━━━━━━━━━━┳━━━━━━━━━━━━━━━┓\n",
              "┃<span style=\"font-weight: bold\"> Layer (type)                    </span>┃<span style=\"font-weight: bold\"> Output Shape           </span>┃<span style=\"font-weight: bold\">       Param # </span>┃\n",
              "┡━━━━━━━━━━━━━━━━━━━━━━━━━━━━━━━━━╇━━━━━━━━━━━━━━━━━━━━━━━━╇━━━━━━━━━━━━━━━┩\n",
              "│ embedding_1 (<span style=\"color: #0087ff; text-decoration-color: #0087ff\">Embedding</span>)         │ ?                      │   <span style=\"color: #00af00; text-decoration-color: #00af00\">0</span> (unbuilt) │\n",
              "├─────────────────────────────────┼────────────────────────┼───────────────┤\n",
              "│ spatial_dropout1d_1             │ ?                      │             <span style=\"color: #00af00; text-decoration-color: #00af00\">0</span> │\n",
              "│ (<span style=\"color: #0087ff; text-decoration-color: #0087ff\">SpatialDropout1D</span>)              │                        │               │\n",
              "├─────────────────────────────────┼────────────────────────┼───────────────┤\n",
              "│ bidirectional_1 (<span style=\"color: #0087ff; text-decoration-color: #0087ff\">Bidirectional</span>) │ ?                      │   <span style=\"color: #00af00; text-decoration-color: #00af00\">0</span> (unbuilt) │\n",
              "├─────────────────────────────────┼────────────────────────┼───────────────┤\n",
              "│ dense_1 (<span style=\"color: #0087ff; text-decoration-color: #0087ff\">Dense</span>)                 │ ?                      │   <span style=\"color: #00af00; text-decoration-color: #00af00\">0</span> (unbuilt) │\n",
              "└─────────────────────────────────┴────────────────────────┴───────────────┘\n",
              "</pre>\n"
            ]
          },
          "metadata": {}
        },
        {
          "output_type": "display_data",
          "data": {
            "text/plain": [
              "\u001b[1m Total params: \u001b[0m\u001b[38;5;34m0\u001b[0m (0.00 B)\n"
            ],
            "text/html": [
              "<pre style=\"white-space:pre;overflow-x:auto;line-height:normal;font-family:Menlo,'DejaVu Sans Mono',consolas,'Courier New',monospace\"><span style=\"font-weight: bold\"> Total params: </span><span style=\"color: #00af00; text-decoration-color: #00af00\">0</span> (0.00 B)\n",
              "</pre>\n"
            ]
          },
          "metadata": {}
        },
        {
          "output_type": "display_data",
          "data": {
            "text/plain": [
              "\u001b[1m Trainable params: \u001b[0m\u001b[38;5;34m0\u001b[0m (0.00 B)\n"
            ],
            "text/html": [
              "<pre style=\"white-space:pre;overflow-x:auto;line-height:normal;font-family:Menlo,'DejaVu Sans Mono',consolas,'Courier New',monospace\"><span style=\"font-weight: bold\"> Trainable params: </span><span style=\"color: #00af00; text-decoration-color: #00af00\">0</span> (0.00 B)\n",
              "</pre>\n"
            ]
          },
          "metadata": {}
        },
        {
          "output_type": "display_data",
          "data": {
            "text/plain": [
              "\u001b[1m Non-trainable params: \u001b[0m\u001b[38;5;34m0\u001b[0m (0.00 B)\n"
            ],
            "text/html": [
              "<pre style=\"white-space:pre;overflow-x:auto;line-height:normal;font-family:Menlo,'DejaVu Sans Mono',consolas,'Courier New',monospace\"><span style=\"font-weight: bold\"> Non-trainable params: </span><span style=\"color: #00af00; text-decoration-color: #00af00\">0</span> (0.00 B)\n",
              "</pre>\n"
            ]
          },
          "metadata": {}
        }
      ]
    },
    {
      "cell_type": "code",
      "source": [
        "# Cell 13: Compile the Model\n",
        "import tensorflow as tf\n",
        "\n",
        "print(\"\\nCompiling the model...\")\n",
        "\n",
        "model.compile(\n",
        "    optimizer=tf.keras.optimizers.Adam(learning_rate=LEARNING_RATE),\n",
        "    loss='binary_crossentropy',\n",
        "    metrics=['accuracy']\n",
        ")\n",
        "print(\"Model compiled.\")"
      ],
      "metadata": {
        "colab": {
          "base_uri": "https://localhost:8080/"
        },
        "id": "Y_0bfgf2lHAP",
        "outputId": "0818e22e-8aea-4551-b62b-d420fbb82daa"
      },
      "execution_count": 40,
      "outputs": [
        {
          "output_type": "stream",
          "name": "stdout",
          "text": [
            "\n",
            "Compiling the model...\n",
            "Model compiled.\n"
          ]
        }
      ]
    },
    {
      "cell_type": "code",
      "source": [
        "# Cell 14: Define Callbacks\n",
        "from tensorflow.keras.callbacks import EarlyStopping, ModelCheckpoint\n",
        "\n",
        "# MODEL_SAVE_PATH defined in Cell 5\n",
        "\n",
        "print(\"Defining callbacks (EarlyStopping, ModelCheckpoint)...\")\n",
        "\n",
        "# EarlyStopping\n",
        "early_stopping = EarlyStopping(\n",
        "    monitor='val_loss',\n",
        "    patience=2,\n",
        "    restore_best_weights=True,\n",
        "    verbose=1\n",
        ")\n",
        "\n",
        "# Use the MODEL_SAVE_PATH from Cell 5\n",
        "model_checkpoint = ModelCheckpoint(\n",
        "    filepath=MODEL_SAVE_PATH, # Use variable from Cell 5\n",
        "    monitor='val_loss',\n",
        "    save_best_only=True,\n",
        "    save_weights_only=False,\n",
        "    verbose=1\n",
        ")\n",
        "\n",
        "# List of callbacks to pass to model.fit()\n",
        "callbacks_list = [early_stopping, model_checkpoint]\n",
        "print(f\"Callbacks defined. Best model will be saved to: {MODEL_SAVE_PATH}\")"
      ],
      "metadata": {
        "colab": {
          "base_uri": "https://localhost:8080/"
        },
        "id": "cfwaxjZ7lJ3z",
        "outputId": "f2922b99-7820-4655-bd71-d80a0753cafb"
      },
      "execution_count": 41,
      "outputs": [
        {
          "output_type": "stream",
          "name": "stdout",
          "text": [
            "Defining callbacks (EarlyStopping, ModelCheckpoint)...\n",
            "Callbacks defined. Best model will be saved to: models_rnn_gru_simple/best_model.keras\n"
          ]
        }
      ]
    },
    {
      "cell_type": "code",
      "source": [
        "# Cell 15: Train the Model\n",
        "\n",
        "print(\"\\nStarting model training...\")\n",
        "print(f\"Training data shape: {X_train_pad.shape}\")\n",
        "print(f\"Validation data shape: {X_val_pad.shape}\")\n",
        "print(f\"Epochs: {EPOCHS}, Batch Size: {BATCH_SIZE}\")\n",
        "\n",
        "# model.fit trains the model.\n",
        "# Inputs: Padded training sequences (X_train_pad) and corresponding labels (y_train).\n",
        "# epochs=EPOCHS: Maximum number of times to iterate over the entire training dataset.\n",
        "# batch_size=BATCH_SIZE: Number of samples to process before updating model weights.\n",
        "# validation_data: Data to evaluate the model on at the end of each epoch (X_val_pad, y_val).\n",
        "# callbacks=callbacks_list: Use the EarlyStopping and ModelCheckpoint defined in cell13\n",
        "# verbose=1: Show progress bars during training.\n",
        "history = model.fit(\n",
        "    X_train_pad, y_train,\n",
        "    epochs=EPOCHS,\n",
        "    batch_size=BATCH_SIZE,\n",
        "    validation_data=(X_val_pad, y_val),\n",
        "    callbacks=callbacks_list,\n",
        "    verbose=1\n",
        ")\n",
        "\n",
        "print(\"\\nTraining finished.\")\n",
        "print(f\"Best model saved during training at: {MODEL_SAVE_PATH}\")"
      ],
      "metadata": {
        "colab": {
          "base_uri": "https://localhost:8080/"
        },
        "id": "RQZfyleQmWkm",
        "outputId": "2e03978f-fcab-454a-f36b-6e952c29bb36"
      },
      "execution_count": 42,
      "outputs": [
        {
          "output_type": "stream",
          "name": "stdout",
          "text": [
            "\n",
            "Starting model training...\n",
            "Training data shape: (119988, 70)\n",
            "Validation data shape: (39997, 70)\n",
            "Epochs: 10, Batch Size: 64\n",
            "Epoch 1/10\n",
            "\u001b[1m1871/1875\u001b[0m \u001b[32m━━━━━━━━━━━━━━━━━━━\u001b[0m\u001b[37m━\u001b[0m \u001b[1m0s\u001b[0m 10ms/step - accuracy: 0.8416 - loss: 0.3471\n",
            "Epoch 1: val_loss improved from inf to 0.26358, saving model to models_rnn_gru_simple/best_model.keras\n",
            "\u001b[1m1875/1875\u001b[0m \u001b[32m━━━━━━━━━━━━━━━━━━━━\u001b[0m\u001b[37m\u001b[0m \u001b[1m27s\u001b[0m 12ms/step - accuracy: 0.8417 - loss: 0.3470 - val_accuracy: 0.8895 - val_loss: 0.2636\n",
            "Epoch 2/10\n",
            "\u001b[1m1875/1875\u001b[0m \u001b[32m━━━━━━━━━━━━━━━━━━━━\u001b[0m\u001b[37m\u001b[0m \u001b[1m0s\u001b[0m 10ms/step - accuracy: 0.9146 - loss: 0.2128\n",
            "Epoch 2: val_loss improved from 0.26358 to 0.26254, saving model to models_rnn_gru_simple/best_model.keras\n",
            "\u001b[1m1875/1875\u001b[0m \u001b[32m━━━━━━━━━━━━━━━━━━━━\u001b[0m\u001b[37m\u001b[0m \u001b[1m21s\u001b[0m 11ms/step - accuracy: 0.9146 - loss: 0.2128 - val_accuracy: 0.8945 - val_loss: 0.2625\n",
            "Epoch 3/10\n",
            "\u001b[1m1871/1875\u001b[0m \u001b[32m━━━━━━━━━━━━━━━━━━━\u001b[0m\u001b[37m━\u001b[0m \u001b[1m0s\u001b[0m 10ms/step - accuracy: 0.9384 - loss: 0.1619\n",
            "Epoch 3: val_loss did not improve from 0.26254\n",
            "\u001b[1m1875/1875\u001b[0m \u001b[32m━━━━━━━━━━━━━━━━━━━━\u001b[0m\u001b[37m\u001b[0m \u001b[1m21s\u001b[0m 11ms/step - accuracy: 0.9384 - loss: 0.1619 - val_accuracy: 0.8935 - val_loss: 0.2729\n",
            "Epoch 4/10\n",
            "\u001b[1m1875/1875\u001b[0m \u001b[32m━━━━━━━━━━━━━━━━━━━━\u001b[0m\u001b[37m\u001b[0m \u001b[1m0s\u001b[0m 10ms/step - accuracy: 0.9584 - loss: 0.1153\n",
            "Epoch 4: val_loss did not improve from 0.26254\n",
            "\u001b[1m1875/1875\u001b[0m \u001b[32m━━━━━━━━━━━━━━━━━━━━\u001b[0m\u001b[37m\u001b[0m \u001b[1m21s\u001b[0m 11ms/step - accuracy: 0.9584 - loss: 0.1153 - val_accuracy: 0.8855 - val_loss: 0.3195\n",
            "Epoch 4: early stopping\n",
            "Restoring model weights from the end of the best epoch: 2.\n",
            "\n",
            "Training finished.\n",
            "Best model saved during training at: models_rnn_gru_simple/best_model.keras\n"
          ]
        }
      ]
    },
    {
      "cell_type": "code",
      "source": [
        "# Cell 16: Training History\n",
        "\n",
        "# Path to save the plot (using dir from Cell 5)\n",
        "HISTORY_PLOT_SAVE_PATH = os.path.join(MODEL_ARTIFACTS_DIR, \"training_history.png\")\n",
        "\n",
        "print(\"\\nPlotting training history (Accuracy and Loss)...\")\n",
        "\n",
        "def plot_training_history(history, save_path=None):\n",
        "    # metrics from history object\n",
        "    acc = history.history.get('accuracy', [])\n",
        "    val_acc = history.history.get('val_accuracy', [])\n",
        "    loss = history.history.get('loss', [])\n",
        "    val_loss = history.history.get('val_loss', [])\n",
        "    # the number of epochs actually run\n",
        "    epochs_range = range(1, len(acc) + 1)\n",
        "\n",
        "    plt.figure(figsize=(14, 6))\n",
        "\n",
        "    # Accuracy\n",
        "    plt.subplot(1, 2, 1) # 1 row, 2 columns, plot 1\n",
        "    if acc: plt.plot(epochs_range, acc, label='Training Accuracy', marker='o')\n",
        "    if val_acc: plt.plot(epochs_range, val_acc, label='Validation Accuracy', marker='o')\n",
        "    plt.legend(loc='lower right')\n",
        "    plt.title('Training and Validation Accuracy')\n",
        "    plt.xlabel('Epoch')\n",
        "    plt.ylabel('Accuracy')\n",
        "    plt.grid(False)\n",
        "\n",
        "    # Loss\n",
        "    plt.subplot(1, 2, 2) # 1 row, 2 columns, plot 2\n",
        "    if loss: plt.plot(epochs_range, loss, label='Training Loss', marker='o')\n",
        "    if val_loss: plt.plot(epochs_range, val_loss, label='Validation Loss', marker='o')\n",
        "    plt.legend(loc='upper right')\n",
        "    plt.title('Training and Validation Loss')\n",
        "    plt.xlabel('Epoch')\n",
        "    plt.ylabel('Loss')\n",
        "    plt.grid(False)\n",
        "\n",
        "    # Adjust layout and show/save\n",
        "    plt.tight_layout()\n",
        "    if save_path:\n",
        "        try:\n",
        "             plt.savefig(save_path)\n",
        "             print(f\"Training history plot saved to: {save_path}\")\n",
        "        except Exception as e:\n",
        "             print(f\"Error saving plot: {e}\")\n",
        "    plt.show()\n",
        "\n",
        "\n",
        "# Check if history object exists and has history attribute\n",
        "if 'history' in locals() and hasattr(history, 'history'):\n",
        "    plot_training_history(history, save_path=HISTORY_PLOT_SAVE_PATH)\n",
        "else:\n",
        "    print(\"History object not found. Cannot plot training history.\")\n",
        "\n",
        "print(\"\\n--- GRU Model Training Stage Complete ---\")"
      ],
      "metadata": {
        "colab": {
          "base_uri": "https://localhost:8080/",
          "height": 667
        },
        "id": "OzJrLci8ydPy",
        "outputId": "6502ba7d-bcd5-4ada-ae6d-d81bef021592"
      },
      "execution_count": 43,
      "outputs": [
        {
          "output_type": "stream",
          "name": "stdout",
          "text": [
            "\n",
            "Plotting training history (Accuracy and Loss)...\n",
            "Training history plot saved to: models_rnn_gru_simple/training_history.png\n"
          ]
        },
        {
          "output_type": "display_data",
          "data": {
            "text/plain": [
              "<Figure size 1400x600 with 2 Axes>"
            ],
            "image/png": "[encoded data removed]"
          },
          "metadata": {}
        },
        {
          "output_type": "stream",
          "name": "stdout",
          "text": [
            "\n",
            "--- GRU Model Training Stage Complete ---\n"
          ]
        }
      ]
    },
    {
      "cell_type": "code",
      "source": [
        "# Cell 17: Load the Best Saved Model\n",
        "\n",
        "print(f\"Loading the best saved model from: {MODEL_SAVE_PATH}\")\n",
        "try:\n",
        "    import tensorflow as tf\n",
        "    best_model = tf.keras.models.load_model(MODEL_SAVE_PATH)\n",
        "    print(\"Best model loaded successfully.\")\n",
        "    # best_model.summary()\n",
        "except Exception as e:\n",
        "    print(f\"Error loading saved model: {e}\")\n",
        "    print(\"Ensure training completed and the model file exists at the specified path.\")\n",
        "    best_model = model\n",
        "    print(\"Using model currently in memory as fallback (might not be the best).\")"
      ],
      "metadata": {
        "colab": {
          "base_uri": "https://localhost:8080/"
        },
        "id": "6fQeg3wRyTqN",
        "outputId": "13105c87-4bf5-486a-f9cc-c6e23b61a20f"
      },
      "execution_count": 44,
      "outputs": [
        {
          "output_type": "stream",
          "name": "stdout",
          "text": [
            "Loading the best saved model from: models_rnn_gru_simple/best_model.keras\n",
            "Best model loaded successfully.\n"
          ]
        }
      ]
    },
    {
      "cell_type": "code",
      "source": [
        "# Cell 18: Evaluation Metrics\n",
        "\n",
        "import seaborn as sns\n",
        "from sklearn.metrics import classification_report, confusion_matrix, roc_curve, auc\n",
        "import matplotlib.pyplot as plt\n",
        "\n",
        "print(\"Evaluation libraries imported.\")"
      ],
      "metadata": {
        "colab": {
          "base_uri": "https://localhost:8080/"
        },
        "id": "93CuMHbvyYmf",
        "outputId": "425de2f6-bfac-48bb-a2fe-095571e85249"
      },
      "execution_count": 45,
      "outputs": [
        {
          "output_type": "stream",
          "name": "stdout",
          "text": [
            "Evaluation libraries imported.\n"
          ]
        }
      ]
    },
    {
      "cell_type": "code",
      "source": [
        "# Cell 19: Predictions on Test Set\n",
        "\n",
        "print(\"Generating predictions on the test set...\")\n",
        "# Use the loaded best_model to predict probabilities on the padded test data\n",
        "# verbose=1 shows a progress bar\n",
        "y_pred_probs = best_model.predict(X_test_pad, verbose=1)\n",
        "\n",
        "# Convert probabilities (output of sigmoid, between 0 and 1) into class labels (0 or 1)\n",
        "# use 0.5 as the threshold\n",
        "y_pred = (y_pred_probs > 0.5).astype(int).flatten() # flatten ensures it's a 1D array\n",
        "\n",
        "print(\"Predictions generated.\")\n",
        "print(f\"Shape of probabilities (y_pred_probs): {y_pred_probs.shape}\")\n",
        "print(f\"Shape of final predictions (y_pred): {y_pred.shape}\")\n",
        "print(f\"Shape of true test labels (y_test): {y_test.shape}\")"
      ],
      "metadata": {
        "colab": {
          "base_uri": "https://localhost:8080/"
        },
        "id": "KWz3ooxQymmE",
        "outputId": "5e5ff9bb-9f1c-4d32-9b2c-80235b37f038"
      },
      "execution_count": 46,
      "outputs": [
        {
          "output_type": "stream",
          "name": "stdout",
          "text": [
            "Generating predictions on the test set...\n",
            "\u001b[1m1250/1250\u001b[0m \u001b[32m━━━━━━━━━━━━━━━━━━━━\u001b[0m\u001b[37m\u001b[0m \u001b[1m5s\u001b[0m 4ms/step\n",
            "Predictions generated.\n",
            "Shape of probabilities (y_pred_probs): (39997, 1)\n",
            "Shape of final predictions (y_pred): (39997,)\n",
            "Shape of true test labels (y_test): (39997,)\n"
          ]
        }
      ]
    },
    {
      "cell_type": "code",
      "source": [
        "# Cell 20: Classification Report and Confusion Matrix Values\n",
        "\n",
        "print(\"\\n Classification Report\")\n",
        "# Compares the true labels (y_test) with the predicted labels (y_pred)\n",
        "# Shows precision, recall, f1-score for each class (Negative/Positive)\n",
        "report = classification_report(y_test, y_pred, target_names=['Negative (0)', 'Positive (1)'])\n",
        "print(report)\n",
        "\n",
        "print(\"\\n Confusion Matrix\")\n",
        "# Calculates the confusion matrix:\n",
        "# [[True Negative, False Positive],\n",
        "#  [False Negative, True Positive]]\n",
        "cm = confusion_matrix(y_test, y_pred)\n",
        "print(cm)"
      ],
      "metadata": {
        "colab": {
          "base_uri": "https://localhost:8080/"
        },
        "id": "62r8Xn1zy6wZ",
        "outputId": "ae80c472-89c3-41fd-baa5-b64e33b15ac7"
      },
      "execution_count": 47,
      "outputs": [
        {
          "output_type": "stream",
          "name": "stdout",
          "text": [
            "\n",
            " Classification Report\n",
            "              precision    recall  f1-score   support\n",
            "\n",
            "Negative (0)       0.89      0.89      0.89     19765\n",
            "Positive (1)       0.90      0.90      0.90     20232\n",
            "\n",
            "    accuracy                           0.90     39997\n",
            "   macro avg       0.90      0.90      0.90     39997\n",
            "weighted avg       0.90      0.90      0.90     39997\n",
            "\n",
            "\n",
            " Confusion Matrix\n",
            "[[17686  2079]\n",
            " [ 2095 18137]]\n"
          ]
        }
      ]
    },
    {
      "cell_type": "code",
      "source": [
        "# Cell 21: Plot Confusion Matrix\n",
        "\n",
        "CM_PLOT_SAVE_PATH = os.path.join(MODEL_ARTIFACTS_DIR, \"confusion_matrix.png\")\n",
        "\n",
        "print(\"\\nPlotting Confusion Matrix...\")\n",
        "plt.figure(figsize=(8, 6))\n",
        "sns.heatmap(cm, annot=True, fmt='d', cmap='Blues',\n",
        "            xticklabels=['Negative', 'Positive'],\n",
        "            yticklabels=['Negative', 'Positive'])\n",
        "plt.xlabel('Predicted Label')\n",
        "plt.ylabel('True Label')\n",
        "plt.title('Confusion Matrix')\n",
        "\n",
        "# Save the plot\n",
        "try:\n",
        "    plt.savefig(CM_PLOT_SAVE_PATH)\n",
        "    print(f\"Confusion matrix plot saved to: {CM_PLOT_SAVE_PATH}\")\n",
        "except Exception as e:\n",
        "    print(f\"Error saving plot: {e}\")\n",
        "\n",
        "plt.show()"
      ],
      "metadata": {
        "colab": {
          "base_uri": "https://localhost:8080/",
          "height": 615
        },
        "id": "nBJQsHxoy9bo",
        "outputId": "2a68f6ec-ac14-463d-c73b-87eb838374b6"
      },
      "execution_count": 48,
      "outputs": [
        {
          "output_type": "stream",
          "name": "stdout",
          "text": [
            "\n",
            "Plotting Confusion Matrix...\n",
            "Confusion matrix plot saved to: models_rnn_gru_simple/confusion_matrix.png\n"
          ]
        },
        {
          "output_type": "display_data",
          "data": {
            "text/plain": [
              "<Figure size 800x600 with 2 Axes>"
            ],
            "image/png": "[encoded data removed]"
          },
          "metadata": {}
        }
      ]
    },
    {
      "cell_type": "code",
      "source": [
        "# Cell 22: Plot ROC Curve\n",
        "\n",
        "ROC_PLOT_SAVE_PATH = os.path.join(MODEL_ARTIFACTS_DIR, \"roc_curve.png\")\n",
        "\n",
        "print(\"\\nPlotting ROC Curve...\")\n",
        "\n",
        "# Calculate ROC curve points\n",
        "# Uses the true labels (y_test) and the (y_pred_probs)\n",
        "fpr, tpr, thresholds = roc_curve(y_test, y_pred_probs)\n",
        "\n",
        "# Calculate the Area Under the Curve (AUC)\n",
        "roc_auc = auc(fpr, tpr)\n",
        "print(f\"Area Under ROC Curve (AUC): {roc_auc:.4f}\")\n",
        "\n",
        "# Plot the ROC curve\n",
        "plt.figure(figsize=(8, 6))\n",
        "plt.plot(fpr, tpr, color='darkorange', lw=2, label=f'ROC curve (AUC = {roc_auc:.4f})')\n",
        "plt.plot([0, 1], [0, 1], color='navy', lw=2, linestyle='--', label='Chance (AUC = 0.5)')\n",
        "plt.xlim([0.0, 1.0])\n",
        "plt.ylim([0.0, 1.05])\n",
        "plt.xlabel('False Positive Rate (1 - Specificity)')\n",
        "plt.ylabel('True Positive Rate (Sensitivity/Recall)')\n",
        "plt.title('Receiver Operating Characteristic (ROC) Curve')\n",
        "plt.legend(loc=\"lower right\")\n",
        "\n",
        "# Save the plot\n",
        "try:\n",
        "    plt.savefig(ROC_PLOT_SAVE_PATH)\n",
        "    print(f\"ROC curve plot saved to: {ROC_PLOT_SAVE_PATH}\")\n",
        "except Exception as e:\n",
        "    print(f\"Error saving plot: {e}\")\n",
        "\n",
        "plt.show()"
      ],
      "metadata": {
        "colab": {
          "base_uri": "https://localhost:8080/",
          "height": 632
        },
        "id": "ypZ8BvzDzDNJ",
        "outputId": "acfd82c5-3289-44fe-805c-14b185de1848"
      },
      "execution_count": 49,
      "outputs": [
        {
          "output_type": "stream",
          "name": "stdout",
          "text": [
            "\n",
            "Plotting ROC Curve...\n",
            "Area Under ROC Curve (AUC): 0.9613\n",
            "ROC curve plot saved to: models_rnn_gru_simple/roc_curve.png\n"
          ]
        },
        {
          "output_type": "display_data",
          "data": {
            "text/plain": [
              "<Figure size 800x600 with 1 Axes>"
            ],
            "image/png": "[encoded data removed]"
          },
          "metadata": {}
        }
      ]
    },
    {
      "cell_type": "code",
      "source": [
        "# Cell 23: Copy Results to Google Drive for Storage\n",
        "\n",
        "print(f\"\\nAttempting to copy temporary results from '{MODEL_ARTIFACTS_DIR}'\")\n",
        "print(f\"to permanent Google Drive location: '{GDRIVE_SAVE_DIR}'...\")\n",
        "\n",
        "# The '-p' flag means it won't complain if the directory already exists\n",
        "!mkdir -p \"{GDRIVE_SAVE_DIR}\"\n",
        "\n",
        "# Copy the entire temporary results folder to Google Drive\n",
        "# The '-r' flag means recursive (copy folder and its contents)\n",
        "# The '-v' flag means verbose (show files being copied)\n",
        "!cp -r -v \"{MODEL_ARTIFACTS_DIR}\"/* \"{GDRIVE_SAVE_DIR}\"/\n",
        "\n",
        "# Verify copy by listing contents of the Drive directory\n",
        "print(f\"\\nContents of Google Drive save directory ('{GDRIVE_SAVE_DIR}'):\")\n",
        "!ls -lh \"{GDRIVE_SAVE_DIR}\"\n",
        "\n",
        "print(\"\\nCopy to Google Drive finished.\")\n",
        "print(\"The best model, tokenizer, plots, and metrics should now be saved permanently.\")"
      ],
      "metadata": {
        "colab": {
          "base_uri": "https://localhost:8080/"
        },
        "id": "RlT3as1Q_hy3",
        "outputId": "103c009f-b1f5-4e90-aff3-96c99f2763e7"
      },
      "execution_count": 50,
      "outputs": [
        {
          "output_type": "stream",
          "name": "stdout",
          "text": [
            "\n",
            "Attempting to copy temporary results from 'models_rnn_gru_simple'\n",
            "to permanent Google Drive location: '/content/drive/MyDrive/Sentiment Analysis Project/GRU_Results_2'...\n",
            "'models_rnn_gru_simple/best_model.keras' -> '/content/drive/MyDrive/Sentiment Analysis Project/GRU_Results_2/best_model.keras'\n",
            "'models_rnn_gru_simple/confusion_matrix.png' -> '/content/drive/MyDrive/Sentiment Analysis Project/GRU_Results_2/confusion_matrix.png'\n",
            "'models_rnn_gru_simple/roc_curve.png' -> '/content/drive/MyDrive/Sentiment Analysis Project/GRU_Results_2/roc_curve.png'\n",
            "'models_rnn_gru_simple/tokenizer.pickle' -> '/content/drive/MyDrive/Sentiment Analysis Project/GRU_Results_2/tokenizer.pickle'\n",
            "'models_rnn_gru_simple/training_history.png' -> '/content/drive/MyDrive/Sentiment Analysis Project/GRU_Results_2/training_history.png'\n",
            "\n",
            "Contents of Google Drive save directory ('/content/drive/MyDrive/Sentiment Analysis Project/GRU_Results_2'):\n",
            "total 18M\n",
            "-rw------- 1 root root 8.0M Apr 16 21:24 best_model.keras\n",
            "-rw------- 1 root root  28K Apr 16 21:24 confusion_matrix.png\n",
            "-rw------- 1 root root  48K Apr 16 21:24 roc_curve.png\n",
            "-rw------- 1 root root 9.2M Apr 16 21:24 tokenizer.pickle\n",
            "-rw------- 1 root root  72K Apr 16 21:24 training_history.png\n",
            "\n",
            "Copy to Google Drive finished.\n",
            "The best model, tokenizer, plots, and metrics should now be saved permanently.\n"
          ]
        }
      ]
    }
  ]
}